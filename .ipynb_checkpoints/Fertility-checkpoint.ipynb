{
 "cells": [
  {
   "cell_type": "code",
   "execution_count": 1,
   "metadata": {},
   "outputs": [],
   "source": [
    "import pandas as pd"
   ]
  },
  {
   "cell_type": "markdown",
   "metadata": {},
   "source": [
    "#### Fertility rate: number of children a woman would give birth to during her childbearing years."
   ]
  },
  {
   "cell_type": "code",
   "execution_count": 21,
   "metadata": {},
   "outputs": [],
   "source": [
    "data = pd.read_csv('./fertility_rate.csv')"
   ]
  },
  {
   "cell_type": "code",
   "execution_count": 32,
   "metadata": {},
   "outputs": [],
   "source": [
    "def drop_cols(data):\n",
    "    data.drop([\"Indicator Code\", \"Indicator Name\", \"Country Code\"], axis=1, inplace=True)\n",
    "    return data\n"
   ]
  },
  {
   "cell_type": "code",
   "execution_count": 50,
   "metadata": {},
   "outputs": [
    {
     "data": {
      "text/html": [
       "<div>\n",
       "<style scoped>\n",
       "    .dataframe tbody tr th:only-of-type {\n",
       "        vertical-align: middle;\n",
       "    }\n",
       "\n",
       "    .dataframe tbody tr th {\n",
       "        vertical-align: top;\n",
       "    }\n",
       "\n",
       "    .dataframe thead th {\n",
       "        text-align: right;\n",
       "    }\n",
       "</style>\n",
       "<table border=\"1\" class=\"dataframe\">\n",
       "  <thead>\n",
       "    <tr style=\"text-align: right;\">\n",
       "      <th></th>\n",
       "      <th>Country Name</th>\n",
       "      <th>1960</th>\n",
       "      <th>1961</th>\n",
       "      <th>1962</th>\n",
       "      <th>1963</th>\n",
       "      <th>1964</th>\n",
       "      <th>1965</th>\n",
       "      <th>1966</th>\n",
       "      <th>1967</th>\n",
       "      <th>1968</th>\n",
       "      <th>...</th>\n",
       "      <th>2007</th>\n",
       "      <th>2008</th>\n",
       "      <th>2009</th>\n",
       "      <th>2010</th>\n",
       "      <th>2011</th>\n",
       "      <th>2012</th>\n",
       "      <th>2013</th>\n",
       "      <th>2014</th>\n",
       "      <th>2015</th>\n",
       "      <th>2016</th>\n",
       "    </tr>\n",
       "  </thead>\n",
       "  <tbody>\n",
       "    <tr>\n",
       "      <th>0</th>\n",
       "      <td>Aruba</td>\n",
       "      <td>4.820000</td>\n",
       "      <td>4.65500</td>\n",
       "      <td>4.47100</td>\n",
       "      <td>4.271000</td>\n",
       "      <td>4.059000</td>\n",
       "      <td>3.842000</td>\n",
       "      <td>3.625000</td>\n",
       "      <td>3.417000</td>\n",
       "      <td>3.226000</td>\n",
       "      <td>...</td>\n",
       "      <td>1.763000</td>\n",
       "      <td>1.764000</td>\n",
       "      <td>1.769000</td>\n",
       "      <td>1.776000</td>\n",
       "      <td>1.783000</td>\n",
       "      <td>1.791000</td>\n",
       "      <td>1.796000</td>\n",
       "      <td>1.800000</td>\n",
       "      <td>1.80100</td>\n",
       "      <td>1.800000</td>\n",
       "    </tr>\n",
       "    <tr>\n",
       "      <th>1</th>\n",
       "      <td>Afghanistan</td>\n",
       "      <td>7.450000</td>\n",
       "      <td>7.45000</td>\n",
       "      <td>7.45000</td>\n",
       "      <td>7.450000</td>\n",
       "      <td>7.450000</td>\n",
       "      <td>7.450000</td>\n",
       "      <td>7.450000</td>\n",
       "      <td>7.450000</td>\n",
       "      <td>7.450000</td>\n",
       "      <td>...</td>\n",
       "      <td>6.460000</td>\n",
       "      <td>6.254000</td>\n",
       "      <td>6.038000</td>\n",
       "      <td>5.816000</td>\n",
       "      <td>5.595000</td>\n",
       "      <td>5.380000</td>\n",
       "      <td>5.174000</td>\n",
       "      <td>4.981000</td>\n",
       "      <td>4.80200</td>\n",
       "      <td>4.635000</td>\n",
       "    </tr>\n",
       "    <tr>\n",
       "      <th>2</th>\n",
       "      <td>Angola</td>\n",
       "      <td>7.478000</td>\n",
       "      <td>7.52400</td>\n",
       "      <td>7.56300</td>\n",
       "      <td>7.592000</td>\n",
       "      <td>7.611000</td>\n",
       "      <td>7.619000</td>\n",
       "      <td>7.618000</td>\n",
       "      <td>7.613000</td>\n",
       "      <td>7.608000</td>\n",
       "      <td>...</td>\n",
       "      <td>6.368000</td>\n",
       "      <td>6.307000</td>\n",
       "      <td>6.238000</td>\n",
       "      <td>6.162000</td>\n",
       "      <td>6.082000</td>\n",
       "      <td>6.000000</td>\n",
       "      <td>5.920000</td>\n",
       "      <td>5.841000</td>\n",
       "      <td>5.76600</td>\n",
       "      <td>5.694000</td>\n",
       "    </tr>\n",
       "    <tr>\n",
       "      <th>3</th>\n",
       "      <td>Albania</td>\n",
       "      <td>6.489000</td>\n",
       "      <td>6.40100</td>\n",
       "      <td>6.28200</td>\n",
       "      <td>6.133000</td>\n",
       "      <td>5.960000</td>\n",
       "      <td>5.773000</td>\n",
       "      <td>5.581000</td>\n",
       "      <td>5.394000</td>\n",
       "      <td>5.218000</td>\n",
       "      <td>...</td>\n",
       "      <td>1.668000</td>\n",
       "      <td>1.650000</td>\n",
       "      <td>1.646000</td>\n",
       "      <td>1.653000</td>\n",
       "      <td>1.668000</td>\n",
       "      <td>1.685000</td>\n",
       "      <td>1.700000</td>\n",
       "      <td>1.710000</td>\n",
       "      <td>1.71400</td>\n",
       "      <td>1.713000</td>\n",
       "    </tr>\n",
       "    <tr>\n",
       "      <th>5</th>\n",
       "      <td>Arab World</td>\n",
       "      <td>6.948747</td>\n",
       "      <td>6.97137</td>\n",
       "      <td>6.99235</td>\n",
       "      <td>7.009265</td>\n",
       "      <td>7.020105</td>\n",
       "      <td>7.023159</td>\n",
       "      <td>7.015824</td>\n",
       "      <td>6.998628</td>\n",
       "      <td>6.972205</td>\n",
       "      <td>...</td>\n",
       "      <td>3.476805</td>\n",
       "      <td>3.470126</td>\n",
       "      <td>3.469736</td>\n",
       "      <td>3.471666</td>\n",
       "      <td>3.470003</td>\n",
       "      <td>3.461347</td>\n",
       "      <td>3.442829</td>\n",
       "      <td>3.413299</td>\n",
       "      <td>3.37384</td>\n",
       "      <td>3.326532</td>\n",
       "    </tr>\n",
       "  </tbody>\n",
       "</table>\n",
       "<p>5 rows × 58 columns</p>\n",
       "</div>"
      ],
      "text/plain": [
       "  Country Name      1960     1961     1962      1963      1964      1965  \\\n",
       "0        Aruba  4.820000  4.65500  4.47100  4.271000  4.059000  3.842000   \n",
       "1  Afghanistan  7.450000  7.45000  7.45000  7.450000  7.450000  7.450000   \n",
       "2       Angola  7.478000  7.52400  7.56300  7.592000  7.611000  7.619000   \n",
       "3      Albania  6.489000  6.40100  6.28200  6.133000  5.960000  5.773000   \n",
       "5   Arab World  6.948747  6.97137  6.99235  7.009265  7.020105  7.023159   \n",
       "\n",
       "       1966      1967      1968  ...      2007      2008      2009      2010  \\\n",
       "0  3.625000  3.417000  3.226000  ...  1.763000  1.764000  1.769000  1.776000   \n",
       "1  7.450000  7.450000  7.450000  ...  6.460000  6.254000  6.038000  5.816000   \n",
       "2  7.618000  7.613000  7.608000  ...  6.368000  6.307000  6.238000  6.162000   \n",
       "3  5.581000  5.394000  5.218000  ...  1.668000  1.650000  1.646000  1.653000   \n",
       "5  7.015824  6.998628  6.972205  ...  3.476805  3.470126  3.469736  3.471666   \n",
       "\n",
       "       2011      2012      2013      2014     2015      2016  \n",
       "0  1.783000  1.791000  1.796000  1.800000  1.80100  1.800000  \n",
       "1  5.595000  5.380000  5.174000  4.981000  4.80200  4.635000  \n",
       "2  6.082000  6.000000  5.920000  5.841000  5.76600  5.694000  \n",
       "3  1.668000  1.685000  1.700000  1.710000  1.71400  1.713000  \n",
       "5  3.470003  3.461347  3.442829  3.413299  3.37384  3.326532  \n",
       "\n",
       "[5 rows x 58 columns]"
      ]
     },
     "execution_count": 50,
     "metadata": {},
     "output_type": "execute_result"
    }
   ],
   "source": [
    "def drop_null(df):\n",
    "    '''\n",
    "    for row in data:\n",
    "        result = (data[data].dropna())\n",
    "        del data[]'''\n",
    "    return df.dropna(how='any', axis=0)\n",
    "drop_null(data).head()"
   ]
  },
  {
   "cell_type": "markdown",
   "metadata": {},
   "source": [
    "#### API for air quality"
   ]
  },
  {
   "cell_type": "code",
   "execution_count": 51,
   "metadata": {},
   "outputs": [],
   "source": [
    "import requests"
   ]
  },
  {
   "cell_type": "code",
   "execution_count": 108,
   "metadata": {},
   "outputs": [],
   "source": [
    "res = requests.get('https://api.openaq.org/v1/countries')"
   ]
  },
  {
   "cell_type": "code",
   "execution_count": 109,
   "metadata": {},
   "outputs": [
    {
     "data": {
      "text/plain": [
       "200"
      ]
     },
     "execution_count": 109,
     "metadata": {},
     "output_type": "execute_result"
    }
   ],
   "source": [
    "res.status_code"
   ]
  },
  {
   "cell_type": "code",
   "execution_count": 110,
   "metadata": {},
   "outputs": [
    {
     "data": {
      "text/plain": [
       "str"
      ]
     },
     "execution_count": 110,
     "metadata": {},
     "output_type": "execute_result"
    }
   ],
   "source": [
    "type(res.text)"
   ]
  },
  {
   "cell_type": "code",
   "execution_count": 111,
   "metadata": {},
   "outputs": [
    {
     "data": {
      "text/plain": [
       "dict"
      ]
     },
     "execution_count": 111,
     "metadata": {},
     "output_type": "execute_result"
    }
   ],
   "source": [
    "type(res.json())"
   ]
  },
  {
   "cell_type": "code",
   "execution_count": 124,
   "metadata": {},
   "outputs": [],
   "source": [
    "data2 = res.json()"
   ]
  },
  {
   "cell_type": "code",
   "execution_count": 168,
   "metadata": {},
   "outputs": [
    {
     "name": "stdout",
     "output_type": "stream",
     "text": [
      "[{'name': 'Algeria', 'code': 'DZ', 'cities': 1, 'locations': 1, 'count': 313}, {'name': 'Andorra', 'code': 'AD', 'cities': 2, 'locations': 3, 'count': 75411}, {'name': 'Argentina', 'code': 'AR', 'cities': 1, 'locations': 4, 'count': 14976}, {'name': 'Australia', 'code': 'AU', 'cities': 21, 'locations': 106, 'count': 5696165}, {'name': 'Austria', 'code': 'AT', 'cities': 16, 'locations': 306, 'count': 1521351}, {'name': 'Bahrain', 'code': 'BH', 'cities': 1, 'locations': 1, 'count': 35020}, {'name': 'Bangladesh', 'code': 'BD', 'cities': 1, 'locations': 2, 'count': 27112}, {'name': 'Belgium', 'code': 'BE', 'cities': 14, 'locations': 198, 'count': 1609931}, {'name': 'Bosnia and Herzegovina', 'code': 'BA', 'cities': 10, 'locations': 22, 'count': 987809}, {'name': 'Brazil', 'code': 'BR', 'cities': 72, 'locations': 119, 'count': 2812094}, {'name': 'Canada', 'code': 'CA', 'cities': 12, 'locations': 202, 'count': 4461482}, {'name': 'Chile', 'code': 'CL', 'cities': 147, 'locations': 136, 'count': 6460641}, {'name': 'China', 'code': 'CN', 'cities': 388, 'locations': 1449, 'count': 44627652}, {'name': 'Colombia', 'code': 'CO', 'cities': 11, 'locations': 32, 'count': 310431}, {'name': 'Croatia', 'code': 'HR', 'cities': 17, 'locations': 50, 'count': 647072}, {'name': 'Curaçao', 'code': 'CW', 'cities': 1, 'locations': 1, 'count': 14482}, {'name': 'Czech Republic', 'code': 'CZ', 'cities': 15, 'locations': 200, 'count': 4264666}, {'name': 'Denmark', 'code': 'DK', 'cities': 7, 'locations': 25, 'count': 431711}, {'name': 'Ethiopia', 'code': 'ET', 'cities': 1, 'locations': 2, 'count': 42751}, {'name': 'Finland', 'code': 'FI', 'cities': 35, 'locations': 108, 'count': 1457097}, {'name': 'France', 'code': 'FR', 'cities': 135, 'locations': 1175, 'count': 17806724}, {'name': 'Germany', 'code': 'DE', 'cities': 36, 'locations': 1027, 'count': 11093590}, {'name': 'Ghana', 'code': 'GH', 'cities': 1, 'locations': 11, 'count': 1595}, {'name': 'Gibraltar', 'code': 'GI', 'cities': 2, 'locations': 6, 'count': 40842}, {'name': 'Hong Kong', 'code': 'HK', 'cities': 9, 'locations': 16, 'count': 994229}, {'name': 'Hungary', 'code': 'HU', 'cities': 14, 'locations': 50, 'count': 1493928}, {'name': 'India', 'code': 'IN', 'cities': 206, 'locations': 362, 'count': 12122505}, {'name': 'Indonesia', 'code': 'ID', 'cities': 2, 'locations': 3, 'count': 58935}, {'name': 'Iraq', 'code': 'IQ', 'cities': 1, 'locations': 1, 'count': 2619}, {'name': 'Ireland', 'code': 'IE', 'cities': 16, 'locations': 38, 'count': 248074}, {'name': 'Israel', 'code': 'IL', 'cities': 14, 'locations': 159, 'count': 195533826}, {'name': 'Italy', 'code': 'IT', 'cities': 45, 'locations': 104, 'count': 2650236}, {'name': 'Kazakhstan', 'code': 'KZ', 'cities': 1, 'locations': 1, 'count': 7682}, {'name': 'Kenya', 'code': 'KE', 'cities': 1, 'locations': 2, 'count': 2842}, {'name': 'Kosovo', 'code': 'XK', 'cities': 8, 'locations': 9, 'count': 154179}, {'name': 'Kuwait', 'code': 'KW', 'cities': 1, 'locations': 1, 'count': 17876}, {'name': 'Kyrgyzstan', 'code': 'KG', 'cities': 1, 'locations': 1, 'count': 2647}, {'name': \"Lao People's Democratic Republic\", 'code': 'LA', 'cities': 1, 'locations': 1, 'count': 280}, {'name': 'Latvia', 'code': 'LV', 'cities': 4, 'locations': 4, 'count': 122361}, {'name': 'Lithuania', 'code': 'LT', 'cities': 8, 'locations': 17, 'count': 348251}, {'name': 'Luxembourg', 'code': 'LU', 'cities': 3, 'locations': 7, 'count': 301295}, {'name': 'Macedonia, the Former Yugoslav Republic of', 'code': 'MK', 'cities': 16, 'locations': 30, 'count': 891701}, {'name': 'Malta', 'code': 'MT', 'cities': 4, 'locations': 4, 'count': 170358}, {'name': 'Mexico', 'code': 'MX', 'cities': 5, 'locations': 101, 'count': 2809585}, {'name': 'Mongolia', 'code': 'MN', 'cities': 25, 'locations': 42, 'count': 2787734}, {'name': 'Myanmar', 'code': 'MM', 'cities': 1, 'locations': 1, 'count': 376}, {'name': 'Nepal', 'code': 'NP', 'cities': 1, 'locations': 4, 'count': 67386}, {'name': 'Netherlands', 'code': 'NL', 'cities': 68, 'locations': 113, 'count': 7294716}, {'name': 'Nigeria', 'code': 'NG', 'cities': 1, 'locations': 1, 'count': 2541}, {'name': 'Norway', 'code': 'NO', 'cities': 37, 'locations': 83, 'count': 2624716}, {'name': 'Pakistan', 'code': 'PK', 'cities': 4, 'locations': 4, 'count': 2933}, {'name': 'Peru', 'code': 'PE', 'cities': 1, 'locations': 21, 'count': 691950}, {'name': 'Philippines', 'code': 'PH', 'cities': 1, 'locations': 1, 'count': 958}, {'name': 'Poland', 'code': 'PL', 'cities': 148, 'locations': 208, 'count': 3902549}, {'name': 'Portugal', 'code': 'PT', 'cities': 16, 'locations': 67, 'count': 2357600}, {'name': 'Russian Federation', 'code': 'RU', 'cities': 1, 'locations': 49, 'count': 187117}, {'name': 'Serbia', 'code': 'RS', 'cities': 4, 'locations': 6, 'count': 117257}, {'name': 'Singapore', 'code': 'SG', 'cities': 1, 'locations': 1, 'count': 1275}, {'name': 'Slovakia', 'code': 'SK', 'cities': 8, 'locations': 38, 'count': 1645934}, {'name': 'Slovenia', 'code': 'SI', 'cities': 8, 'locations': 8, 'count': 101343}, {'name': 'South Africa', 'code': 'ZA', 'cities': 1, 'locations': 11, 'count': 582506}, {'name': 'Spain', 'code': 'ES', 'cities': 115, 'locations': 1103, 'count': 14346465}, {'name': 'Sri Lanka', 'code': 'LK', 'cities': 1, 'locations': 1, 'count': 13302}, {'name': 'Sweden', 'code': 'SE', 'cities': 3, 'locations': 15, 'count': 333209}, {'name': 'Switzerland', 'code': 'CH', 'cities': 14, 'locations': 25, 'count': 936406}, {'name': 'Taiwan, Province of China', 'code': 'TW', 'cities': 30, 'locations': 77, 'count': 4636741}, {'name': 'Thailand', 'code': 'TH', 'cities': 34, 'locations': 69, 'count': 4553984}, {'name': 'Turkey', 'code': 'TR', 'cities': 43, 'locations': 152, 'count': 5640285}, {'name': 'Uganda', 'code': 'UG', 'cities': 1, 'locations': 1, 'count': 17870}, {'name': 'United Arab Emirates', 'code': 'AE', 'cities': 2, 'locations': 2, 'count': 35815}, {'name': 'United Kingdom', 'code': 'GB', 'cities': 112, 'locations': 162, 'count': 8809989}, {'name': 'United States', 'code': 'US', 'cities': 780, 'locations': 2103, 'count': 51146259}, {'name': 'Uzbekistan', 'code': 'UZ', 'cities': 1, 'locations': 1, 'count': 9999}, {'name': 'Viet Nam', 'code': 'VN', 'cities': 2, 'locations': 3, 'count': 55440}, {'code': 'CE', 'cities': 1, 'locations': 1, 'count': 74}]\n"
     ]
    }
   ],
   "source": [
    "print(data2[\"results\"])"
   ]
  },
  {
   "cell_type": "code",
   "execution_count": 188,
   "metadata": {},
   "outputs": [],
   "source": [
    "df = pd.DataFrame(data2['results'])"
   ]
  },
  {
   "cell_type": "code",
   "execution_count": 194,
   "metadata": {},
   "outputs": [
    {
     "name": "stdout",
     "output_type": "stream",
     "text": [
      "   code                       name\n",
      "0    DZ                    Algeria\n",
      "1    AD                    Andorra\n",
      "2    AR                  Argentina\n",
      "3    AU                  Australia\n",
      "4    AT                    Austria\n",
      "5    BH                    Bahrain\n",
      "6    BD                 Bangladesh\n",
      "7    BE                    Belgium\n",
      "8    BA     Bosnia and Herzegovina\n",
      "9    BR                     Brazil\n",
      "10   CA                     Canada\n",
      "11   CL                      Chile\n",
      "12   CN                      China\n",
      "13   CO                   Colombia\n",
      "14   HR                    Croatia\n",
      "15   CW                    Curaçao\n",
      "16   CZ             Czech Republic\n",
      "17   DK                    Denmark\n",
      "18   ET                   Ethiopia\n",
      "19   FI                    Finland\n",
      "20   FR                     France\n",
      "21   DE                    Germany\n",
      "22   GH                      Ghana\n",
      "23   GI                  Gibraltar\n",
      "24   HK                  Hong Kong\n",
      "25   HU                    Hungary\n",
      "26   IN                      India\n",
      "27   ID                  Indonesia\n",
      "28   IQ                       Iraq\n",
      "29   IE                    Ireland\n",
      "..  ...                        ...\n",
      "45   MM                    Myanmar\n",
      "46   NP                      Nepal\n",
      "47   NL                Netherlands\n",
      "48   NG                    Nigeria\n",
      "49   NO                     Norway\n",
      "50   PK                   Pakistan\n",
      "51   PE                       Peru\n",
      "52   PH                Philippines\n",
      "53   PL                     Poland\n",
      "54   PT                   Portugal\n",
      "55   RU         Russian Federation\n",
      "56   RS                     Serbia\n",
      "57   SG                  Singapore\n",
      "58   SK                   Slovakia\n",
      "59   SI                   Slovenia\n",
      "60   ZA               South Africa\n",
      "61   ES                      Spain\n",
      "62   LK                  Sri Lanka\n",
      "63   SE                     Sweden\n",
      "64   CH                Switzerland\n",
      "65   TW  Taiwan, Province of China\n",
      "66   TH                   Thailand\n",
      "67   TR                     Turkey\n",
      "68   UG                     Uganda\n",
      "69   AE       United Arab Emirates\n",
      "70   GB             United Kingdom\n",
      "71   US              United States\n",
      "72   UZ                 Uzbekistan\n",
      "73   VN                   Viet Nam\n",
      "74   CE                        NaN\n",
      "\n",
      "[75 rows x 2 columns]\n"
     ]
    }
   ],
   "source": [
    "print(df[['code', 'name']])"
   ]
  },
  {
   "cell_type": "code",
   "execution_count": 197,
   "metadata": {},
   "outputs": [],
   "source": [
    "res2 = requests.get('https://api.openaq.org/v1/measurements')"
   ]
  },
  {
   "cell_type": "code",
   "execution_count": 198,
   "metadata": {},
   "outputs": [
    {
     "data": {
      "text/plain": [
       "200"
      ]
     },
     "execution_count": 198,
     "metadata": {},
     "output_type": "execute_result"
    }
   ],
   "source": [
    "res2.status_code"
   ]
  },
  {
   "cell_type": "raw",
   "metadata": {},
   "source": []
  },
  {
   "cell_type": "code",
   "execution_count": null,
   "metadata": {},
   "outputs": [],
   "source": []
  },
  {
   "cell_type": "code",
   "execution_count": 125,
   "metadata": {},
   "outputs": [],
   "source": [
    "#def getAir():\n",
    "    #res3 = requests.get('https://api.openaq.org/v1/countries')\n",
    "    #data3 = res3.json()\n",
    "    #return {\n",
    "        #\"country\": data3['country'],\n",
    "    #}"
   ]
  }
 ],
 "metadata": {
  "kernelspec": {
   "display_name": "Python 3",
   "language": "python",
   "name": "python3"
  },
  "language_info": {
   "codemirror_mode": {
    "name": "ipython",
    "version": 3
   },
   "file_extension": ".py",
   "mimetype": "text/x-python",
   "name": "python",
   "nbconvert_exporter": "python",
   "pygments_lexer": "ipython3",
   "version": "3.7.3"
  }
 },
 "nbformat": 4,
 "nbformat_minor": 2
}
